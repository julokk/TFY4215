{
 "cells": [
  {
   "cell_type": "markdown",
   "id": "4b396d4c",
   "metadata": {},
   "source": [
    "# Numerisk Øving 1 TFY4215\n",
    "#### Gruppe: \n",
    "Ingve Aleksander Hetland, Juliane Løkke, Andreas Nossum\n",
    "\n",
    "## Den tidsuavhengige Shrödinger likningen"
   ]
  },
  {
   "cell_type": "code",
   "execution_count": null,
   "id": "3d15bb75",
   "metadata": {},
   "outputs": [],
   "source": []
  }
 ],
 "metadata": {
  "kernelspec": {
   "display_name": "Python 3",
   "language": "python",
   "name": "python3"
  },
  "language_info": {
   "codemirror_mode": {
    "name": "ipython",
    "version": 3
   },
   "file_extension": ".py",
   "mimetype": "text/x-python",
   "name": "python",
   "nbconvert_exporter": "python",
   "pygments_lexer": "ipython3",
   "version": "3.8.8"
  }
 },
 "nbformat": 4,
 "nbformat_minor": 5
}
